{
 "cells": [
  {
   "cell_type": "code",
   "execution_count": null,
   "id": "57547d60",
   "metadata": {},
   "outputs": [],
   "source": [
    "from flask import Flask, app, request, jsonify\n",
    "import time\n",
    "from core import get_prediction"
   ]
  },
  {
   "cell_type": "code",
   "execution_count": null,
   "id": "fda9e808",
   "metadata": {},
   "outputs": [],
   "source": [
    "KERNEL_SIZE = 224\n",
    "HEALTHY_THRESHOLD=50/100\n",
    "ARCHITECTURE = 'custom'\n",
    "RESCALING_FACTOR=1/255\n",
    "short_symptom_labels = {\n",
    "    0: 'FMD',\n",
    "    1: 'LSD',\n",
    "    2: 'NOR'\n",
    "}\n",
    "model = tf.keras.models.load_model(f\"./{ARCHITECTURE}_model\")\n",
    "\n",
    "'''\n",
    "    Resize both dimensions to multiples of the kernel size\n",
    "    to allow splitting the image into tiles\n",
    "'''\n",
    "\n",
    "\n",
    "def resize_image(img):\n",
    "    return img.resize((KERNEL_SIZE, KERNEL_SIZE), Image.ANTIALIAS)\n",
    "\n",
    "'''\n",
    "    Splitting the image into tiles of the kernel size\n",
    "    then reshaping it\n",
    "'''\n",
    "def split_and_reshape(img):\n",
    "    height, width, channels = img.shape\n",
    "    img = img.reshape(1, KERNEL_SIZE,\n",
    "                      1, KERNEL_SIZE, channels)\n",
    "    img = img.swapaxes(1, 2)\n",
    "    img = img.reshape(-1, img.shape[-3], img.shape[-2], img.shape[-1])\n",
    "    return img\n",
    "'''\n",
    "    The most frequent element is the most likely\n",
    "    NOTE: \"Healthy\" tile have to be handled carefully.\n",
    "    No matter how high the count of \"healthy\" tiles are, if there's any spot that's\n",
    "    not healthy, the whole leaf might not be healthy.\n",
    "    The threshold is set to 92% (>=92% Healthy is considered actually healthy).\n",
    "'''\n",
    "\n",
    "\n",
    "def get_prediction(file):\n",
    "    img = Image.open(file)\n",
    "    img = resize_image(img)\n",
    "    original_img = np.asarray(img)\n",
    "    rescaled_img = original_img * RESCALING_FACTOR\n",
    "    rescaled_img = split_and_reshape(rescaled_img)\n",
    "    model_prediction = model.predict(rescaled_img)\n",
    "    classification = np.argmax(model_prediction, axis=1)\n",
    "    classification_size=len(classification)\n",
    "    counter = Counter(classification)\n",
    "    confidence = 0\n",
    "    for i in range(classification_size):\n",
    "        confidence += model_prediction[i][classification[i]]\n",
    "    confidence /= classification_size\n",
    "    return short_symptom_labels[counter.most_common(1)[0][0]], str(round(confidence * 100, 2))"
   ]
  },
  {
   "cell_type": "code",
   "execution_count": 39,
   "id": "e77a9fec",
   "metadata": {},
   "outputs": [],
   "source": [
    "path = \"input/cattle-disease/test/NOR/2-4.jpg\""
   ]
  },
  {
   "cell_type": "code",
   "execution_count": 40,
   "id": "6f0e1a8c",
   "metadata": {},
   "outputs": [
    {
     "name": "stderr",
     "output_type": "stream",
     "text": [
      "C:\\Users\\Tho Le\\AppData\\Local\\Temp\\ipykernel_52572\\124436196.py:19: DeprecationWarning: ANTIALIAS is deprecated and will be removed in Pillow 10 (2023-07-01). Use Resampling.LANCZOS instead.\n",
      "  return img.resize((KERNEL_SIZE, KERNEL_SIZE), Image.ANTIALIAS)\n"
     ]
    },
    {
     "data": {
      "text/plain": [
       "('FMD', '99.99')"
      ]
     },
     "execution_count": 40,
     "metadata": {},
     "output_type": "execute_result"
    }
   ],
   "source": [
    "get_prediction(path)"
   ]
  },
  {
   "cell_type": "code",
   "execution_count": 41,
   "id": "963caed4",
   "metadata": {},
   "outputs": [
    {
     "name": "stderr",
     "output_type": "stream",
     "text": [
      "C:\\Users\\Tho Le\\AppData\\Local\\Temp\\ipykernel_52572\\124436196.py:19: DeprecationWarning: ANTIALIAS is deprecated and will be removed in Pillow 10 (2023-07-01). Use Resampling.LANCZOS instead.\n",
      "  return img.resize((KERNEL_SIZE, KERNEL_SIZE), Image.ANTIALIAS)\n"
     ]
    }
   ],
   "source": [
    "prediction, confidence = get_prediction(path)"
   ]
  },
  {
   "cell_type": "code",
   "execution_count": 42,
   "id": "9c111074",
   "metadata": {},
   "outputs": [
    {
     "name": "stdout",
     "output_type": "stream",
     "text": [
      "FMD\n"
     ]
    }
   ],
   "source": [
    "print(prediction)"
   ]
  },
  {
   "cell_type": "code",
   "execution_count": null,
   "id": "142bec61",
   "metadata": {},
   "outputs": [],
   "source": [
    "classification_size = len(classification)\n",
    "    counter = Counter(classification)\n",
    "    confidence = 0\n",
    "    for i in range(classification_size):\n",
    "        confidence += model_prediction[i][classification[i]]\n",
    "    confidence /= classification_size\n",
    "\n",
    "    if counter[0] >= classification_size * HEALTHY_THRESHOLD:\n",
    "        return short_symptom_labels[0], str(round(confidence * 100, 2))\n",
    "    else:\n",
    "        del counter[0]\n",
    "\n",
    "    return short_symptom_labels[counter.most_common(1)[0][0]], str(round(confidence * 100, 2))"
   ]
  }
 ],
 "metadata": {
  "kernelspec": {
   "display_name": "Python 3 (ipykernel)",
   "language": "python",
   "name": "python3"
  },
  "language_info": {
   "codemirror_mode": {
    "name": "ipython",
    "version": 3
   },
   "file_extension": ".py",
   "mimetype": "text/x-python",
   "name": "python",
   "nbconvert_exporter": "python",
   "pygments_lexer": "ipython3",
   "version": "3.9.13"
  }
 },
 "nbformat": 4,
 "nbformat_minor": 5
}
