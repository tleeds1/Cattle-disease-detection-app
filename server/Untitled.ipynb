{
 "cells": [
  {
   "cell_type": "code",
   "execution_count": 1,
   "id": "507b32f7",
   "metadata": {},
   "outputs": [],
   "source": [
    "from flask import Flask, app, request, jsonify\n",
    "import time\n",
    "from core import get_prediction"
   ]
  },
  {
   "cell_type": "code",
   "execution_count": null,
   "id": "4d3e3ba8",
   "metadata": {},
   "outputs": [
    {
     "name": "stdout",
     "output_type": "stream",
     "text": [
      " * Serving Flask app '__main__'\n",
      " * Debug mode: off\n"
     ]
    },
    {
     "name": "stderr",
     "output_type": "stream",
     "text": [
      "WARNING: This is a development server. Do not use it in a production deployment. Use a production WSGI server instead.\n",
      " * Running on all addresses (0.0.0.0)\n",
      " * Running on http://127.0.0.1:5000\n",
      " * Running on http://172.20.10.2:5000\n",
      "Press CTRL+C to quit\n",
      "172.20.10.2 - - [12/Jan/2023 12:42:27] \"GET / HTTP/1.1\" 404 -\n",
      "172.20.10.2 - - [12/Jan/2023 12:42:27] \"GET /favicon.ico HTTP/1.1\" 404 -\n",
      "172.20.10.2 - - [12/Jan/2023 12:45:56] \"POST /predict/ HTTP/1.1\" 201 -\n"
     ]
    }
   ],
   "source": [
    "app = Flask(__name__)\n",
    "@app.route('/predict/', methods=['POST'])\n",
    "def send_image():\n",
    "    file = request.files['image']\n",
    "    path = f'storage/cache/{time.time_ns()}.jpg'\n",
    "\n",
    "    file.save(path)\n",
    "    prediction, confidence = get_prediction(path)\n",
    "\n",
    "    payload = {\n",
    "        'Status': 'Success',\n",
    "        'Message': 'Image sent',\n",
    "        'Prediction': prediction,\n",
    "        'Confidence': confidence,\n",
    "    }\n",
    "\n",
    "    return jsonify(payload), 201\n",
    "\n",
    "if __name__ == '__main__':\n",
    "    app.run(host='0.0.0.0', port=5000, debug=False, threaded=False)"
   ]
  },
  {
   "cell_type": "code",
   "execution_count": 23,
   "id": "d32f1c3c",
   "metadata": {},
   "outputs": [],
   "source": []
  },
  {
   "cell_type": "code",
   "execution_count": 24,
   "id": "c027aca3",
   "metadata": {},
   "outputs": [
    {
     "name": "stderr",
     "output_type": "stream",
     "text": [
      "C:\\Users\\Tho Le\\AppData\\Local\\Temp\\ipykernel_11524\\1531836389.py:17: DeprecationWarning: ANTIALIAS is deprecated and will be removed in Pillow 10 (2023-07-01). Use Resampling.LANCZOS instead.\n",
      "  return img.resize((height, width), Image.ANTIALIAS)\n"
     ]
    },
    {
     "data": {
      "text/plain": [
       "('FMD', '93.28')"
      ]
     },
     "execution_count": 24,
     "metadata": {},
     "output_type": "execute_result"
    }
   ],
   "source": []
  },
  {
   "cell_type": "code",
   "execution_count": null,
   "id": "9a0f0202",
   "metadata": {},
   "outputs": [],
   "source": []
  }
 ],
 "metadata": {
  "kernelspec": {
   "display_name": "Python 3 (ipykernel)",
   "language": "python",
   "name": "python3"
  },
  "language_info": {
   "codemirror_mode": {
    "name": "ipython",
    "version": 3
   },
   "file_extension": ".py",
   "mimetype": "text/x-python",
   "name": "python",
   "nbconvert_exporter": "python",
   "pygments_lexer": "ipython3",
   "version": "3.9.13"
  }
 },
 "nbformat": 4,
 "nbformat_minor": 5
}
