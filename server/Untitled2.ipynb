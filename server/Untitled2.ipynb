{
 "cells": [
  {
   "cell_type": "code",
   "execution_count": 1,
   "id": "7342cb12",
   "metadata": {},
   "outputs": [],
   "source": [
    "from flask import Flask, app, request, jsonify\n",
    "import time\n",
    "from core import get_prediction"
   ]
  },
  {
   "cell_type": "code",
   "execution_count": null,
   "id": "24474a63",
   "metadata": {},
   "outputs": [
    {
     "name": "stdout",
     "output_type": "stream",
     "text": [
      " * Serving Flask app '__main__'\n",
      " * Debug mode: off\n"
     ]
    },
    {
     "name": "stderr",
     "output_type": "stream",
     "text": [
      "WARNING: This is a development server. Do not use it in a production deployment. Use a production WSGI server instead.\n",
      " * Running on all addresses (0.0.0.0)\n",
      " * Running on http://127.0.0.1:5000\n",
      " * Running on http://192.168.1.9:5000\n",
      "Press CTRL+C to quit\n",
      "192.168.1.9 - - [02/Jan/2023 11:20:32] \"GET / HTTP/1.1\" 404 -\n",
      "192.168.1.9 - - [02/Jan/2023 11:20:32] \"GET /favicon.ico HTTP/1.1\" 404 -\n",
      "192.168.1.9 - - [02/Jan/2023 11:20:46] \"GET /predict/ HTTP/1.1\" 201 -\n",
      "192.168.1.9 - - [02/Jan/2023 11:20:46] \"GET /predict/ HTTP/1.1\" 201 -\n",
      "192.168.1.9 - - [02/Jan/2023 11:25:57] \"POST /predict/ HTTP/1.1\" 201 -\n"
     ]
    }
   ],
   "source": [
    "app = Flask(__name__)\n",
    "@app.route('/predict/', methods=['GET','POST'])\n",
    "def send_image():\n",
    "    path = 'storage/cache/LSD1.jpg'\n",
    "    prediction, confidence = get_prediction(path)\n",
    "\n",
    "    payload = {\n",
    "        'Status': 'Success',\n",
    "        'Message': 'Image sent',\n",
    "        'Prediction': prediction,\n",
    "        'Confidence': confidence,\n",
    "    }\n",
    "\n",
    "    return jsonify(payload), 201\n",
    "\n",
    "if __name__ == '__main__':\n",
    "    app.run(host='0.0.0.0', port=5000, debug=False, threaded=False)"
   ]
  },
  {
   "cell_type": "code",
   "execution_count": null,
   "id": "a911e6a1",
   "metadata": {},
   "outputs": [],
   "source": []
  }
 ],
 "metadata": {
  "kernelspec": {
   "display_name": "Python 3 (ipykernel)",
   "language": "python",
   "name": "python3"
  },
  "language_info": {
   "codemirror_mode": {
    "name": "ipython",
    "version": 3
   },
   "file_extension": ".py",
   "mimetype": "text/x-python",
   "name": "python",
   "nbconvert_exporter": "python",
   "pygments_lexer": "ipython3",
   "version": "3.9.13"
  }
 },
 "nbformat": 4,
 "nbformat_minor": 5
}
